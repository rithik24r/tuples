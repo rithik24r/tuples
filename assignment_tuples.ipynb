{
  "nbformat": 4,
  "nbformat_minor": 0,
  "metadata": {
    "colab": {
      "name": "Untitled5.ipynb",
      "provenance": [],
      "collapsed_sections": []
    },
    "kernelspec": {
      "name": "python3",
      "display_name": "Python 3"
    }
  },
  "cells": [
    {
      "cell_type": "code",
      "metadata": {
        "id": "o4IksHUBEI9d",
        "colab_type": "code",
        "colab": {
          "base_uri": "https://localhost:8080/",
          "height": 146
        },
        "outputId": "7f02f7d6-2626-4abb-ee31-9f65b1af33bc"
      },
      "source": [
        "1#to sum all the items in a list\n",
        "lst=[]\n",
        "num=int(input(\"how many numbers\"))\n",
        "for i in range(num):\n",
        "                     numbers=int(input(\"enter the numbers\"))\n",
        "                     lst.append(numbers)\n",
        "print(\"sum of elements in a list is\",sum(lst))"
      ],
      "execution_count": 2,
      "outputs": [
        {
          "output_type": "stream",
          "text": [
            "how many numbers5\n",
            "enter the numbers20\n",
            "enter the numbers30\n",
            "enter the numbers40\n",
            "enter the numbers50\n",
            "enter the numbers60\n",
            "sum of elements in a list is 200\n"
          ],
          "name": "stdout"
        }
      ]
    },
    {
      "cell_type": "code",
      "metadata": {
        "id": "K5KPbvVbFK3j",
        "colab_type": "code",
        "colab": {
          "base_uri": "https://localhost:8080/",
          "height": 35
        },
        "outputId": "e5de080a-4119-4115-dcc7-d3b45f1edda4"
      },
      "source": [
        "2#empty list of dictioniries\n",
        "res=[{}]*6\n",
        "print(\"the empty list of dictiniries is:\"+str(res))"
      ],
      "execution_count": 4,
      "outputs": [
        {
          "output_type": "stream",
          "text": [
            "the empty list of dictiniries is:[{}, {}, {}, {}, {}, {}]\n"
          ],
          "name": "stdout"
        }
      ]
    },
    {
      "cell_type": "code",
      "metadata": {
        "id": "VC1c8kS5FtHg",
        "colab_type": "code",
        "colab": {
          "base_uri": "https://localhost:8080/",
          "height": 72
        },
        "outputId": "a5e50381-faec-47ca-d3db-55a709710aa2"
      },
      "source": [
        "3#iterate keys using for loop\n",
        "d={'red':1,'green':2,'blue':3}\n",
        "for color_key,value in d.items():\n",
        "       print(color_key,'corresponds to',d[color_key])"
      ],
      "execution_count": 7,
      "outputs": [
        {
          "output_type": "stream",
          "text": [
            "red corresponds to 1\n",
            "green corresponds to 2\n",
            "blue corresponds to 3\n"
          ],
          "name": "stdout"
        }
      ]
    },
    {
      "cell_type": "code",
      "metadata": {
        "id": "HYiUYSrMHRr7",
        "colab_type": "code",
        "colab": {
          "base_uri": "https://localhost:8080/",
          "height": 35
        },
        "outputId": "fbb6d79e-2469-4d6e-e959-bc4da2a1bd9c"
      },
      "source": [
        "#4sum of all the items in a dictioniries\n",
        "my_dict={'data1':100,'data2':200,'data3':300}\n",
        "print(sum(my_dict.values()))"
      ],
      "execution_count": 8,
      "outputs": [
        {
          "output_type": "stream",
          "text": [
            "600\n"
          ],
          "name": "stdout"
        }
      ]
    },
    {
      "cell_type": "code",
      "metadata": {
        "id": "gRW5OAUdHy8w",
        "colab_type": "code",
        "colab": {
          "base_uri": "https://localhost:8080/",
          "height": 35
        },
        "outputId": "7236bf6c-441a-44eb-caab-0e19441e9087"
      },
      "source": [
        "#5 to create a tuple\n",
        "my_data=(\"hi\",\"hello\",\"bye\")\n",
        "print(my_data)\n"
      ],
      "execution_count": 9,
      "outputs": [
        {
          "output_type": "stream",
          "text": [
            "('hi', 'hello', 'bye')\n"
          ],
          "name": "stdout"
        }
      ]
    },
    {
      "cell_type": "code",
      "metadata": {
        "id": "wv-sKfyDIS0x",
        "colab_type": "code",
        "colab": {
          "base_uri": "https://localhost:8080/",
          "height": 35
        },
        "outputId": "1cd1a9e9-2442-4f65-80e2-ddef70ebede7"
      },
      "source": [
        "#6 tuple with diff data types\n",
        "tuplex=(\"tuple\",False,3.2,1)\n",
        "print(tuplex)"
      ],
      "execution_count": 10,
      "outputs": [
        {
          "output_type": "stream",
          "text": [
            "('tuple', False, 3.2, 1)\n"
          ],
          "name": "stdout"
        }
      ]
    },
    {
      "cell_type": "code",
      "metadata": {
        "id": "ZnJ7iiyYIqtZ",
        "colab_type": "code",
        "colab": {
          "base_uri": "https://localhost:8080/",
          "height": 35
        },
        "outputId": "5c73bd57-2b36-44cd-d9e4-282656cddd3a"
      },
      "source": [
        "#7tuple to string\n",
        "tup=('e','x','e','r','c','i','s','e')\n",
        "str= ''.join(tup)\n",
        "print(str)"
      ],
      "execution_count": 11,
      "outputs": [
        {
          "output_type": "stream",
          "text": [
            "exercise\n"
          ],
          "name": "stdout"
        }
      ]
    },
    {
      "cell_type": "code",
      "metadata": {
        "id": "q1J9--yoJLLo",
        "colab_type": "code",
        "colab": {
          "base_uri": "https://localhost:8080/",
          "height": 35
        },
        "outputId": "ee6cef64-9930-4831-e3e1-b98643fd2d29"
      },
      "source": [
        "#8 to slice a tuple\n",
        "tuplex=(1,2,3,4,5,6,7,8,9,10)\n",
        "slice=tuplex[3:5]\n",
        "print(slice)"
      ],
      "execution_count": 12,
      "outputs": [
        {
          "output_type": "stream",
          "text": [
            "(4, 5)\n"
          ],
          "name": "stdout"
        }
      ]
    },
    {
      "cell_type": "code",
      "metadata": {
        "id": "2buLKNf4Jt6z",
        "colab_type": "code",
        "colab": {
          "base_uri": "https://localhost:8080/",
          "height": 54
        },
        "outputId": "b2014806-afb4-4b40-dee3-7ed0fd170725"
      },
      "source": [
        "#9length of atuple\n",
        "tuplex=tuple(\"momdad\")\n",
        "print(tuplex)\n",
        "print(len(tuplex))"
      ],
      "execution_count": 13,
      "outputs": [
        {
          "output_type": "stream",
          "text": [
            "('m', 'o', 'm', 'd', 'a', 'd')\n",
            "6\n"
          ],
          "name": "stdout"
        }
      ]
    },
    {
      "cell_type": "code",
      "metadata": {
        "id": "bi276e-fKCZ3",
        "colab_type": "code",
        "colab": {
          "base_uri": "https://localhost:8080/",
          "height": 35
        },
        "outputId": "9dd9fed9-379b-42ae-8e10-14e98b6978f6"
      },
      "source": [
        "#10 to reverse a tuple\n",
        "def reverse(tuples):\n",
        "  new_tup=tuples[::-1]\n",
        "  return new_tup\n",
        "tuples=('c','r','i','c','k','e','t')\n",
        "print(reverse(tuples))"
      ],
      "execution_count": 14,
      "outputs": [
        {
          "output_type": "stream",
          "text": [
            "('t', 'e', 'k', 'c', 'i', 'r', 'c')\n"
          ],
          "name": "stdout"
        }
      ]
    }
  ]
}